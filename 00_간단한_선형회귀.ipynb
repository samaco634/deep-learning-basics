{
  "nbformat": 4,
  "nbformat_minor": 0,
  "metadata": {
    "colab": {
      "provenance": [],
      "authorship_tag": "ABX9TyPAYvezGOLO2thUP3CU72jX",
      "include_colab_link": true
    },
    "kernelspec": {
      "name": "python3",
      "display_name": "Python 3"
    },
    "language_info": {
      "name": "python"
    }
  },
  "cells": [
    {
      "cell_type": "markdown",
      "metadata": {
        "id": "view-in-github",
        "colab_type": "text"
      },
      "source": [
        "<a href=\"https://colab.research.google.com/github/samaco634/deep-learning-basics/blob/main/00_%EA%B0%84%EB%8B%A8%ED%95%9C_%EC%84%A0%ED%98%95%ED%9A%8C%EA%B7%80.ipynb\" target=\"_parent\"><img src=\"https://colab.research.google.com/assets/colab-badge.svg\" alt=\"Open In Colab\"/></a>"
      ]
    },
    {
      "cell_type": "code",
      "source": [
        "tensorflow로 간단한 linear regression 구현하기\n",
        "출처 : https://dokim-33.tistory.com/51\n"
      ],
      "metadata": {
        "id": "AYuHbyLXMoLG"
      },
      "execution_count": null,
      "outputs": []
    },
    {
      "cell_type": "code",
      "execution_count": 1,
      "metadata": {
        "colab": {
          "base_uri": "https://localhost:8080/"
        },
        "id": "-T6mCC2qLvDh",
        "outputId": "ad19e05d-923d-491d-d026-d418bc087926"
      },
      "outputs": [
        {
          "output_type": "stream",
          "name": "stdout",
          "text": [
            "2.9.2\n"
          ]
        }
      ],
      "source": [
        "import tensorflow as tf\n",
        "import numpy as np\n",
        "import matplotlib.pyplot as plt\n",
        "print(tf.__version__) #tensorflow 버전 확인하기"
      ]
    },
    {
      "cell_type": "code",
      "source": [
        "tf.random.set_seed(1)  #seed 고정\n",
        "#간단하게 y=x\n",
        "x_train = [1., 2., 3.]\n",
        "y_train = [1., 2., 3.]\n",
        "\n",
        "W = tf.Variable(tf.random.normal([1], name='weight', dtype=tf.float32))\n",
        "b = tf.Variable(tf.random.normal([1], name='bias', dtype=tf.float32))\n",
        "\n",
        "W.numpy(), b.numpy()"
      ],
      "metadata": {
        "colab": {
          "base_uri": "https://localhost:8080/"
        },
        "id": "EHbzCPOCLxyE",
        "outputId": "f41d98d9-982a-4245-89a0-4c81b8ddd178"
      },
      "execution_count": 2,
      "outputs": [
        {
          "output_type": "execute_result",
          "data": {
            "text/plain": [
              "(array([-1.1012203], dtype=float32), array([0.40308788], dtype=float32))"
            ]
          },
          "metadata": {},
          "execution_count": 2
        }
      ]
    },
    {
      "cell_type": "code",
      "source": [
        "hypothesis = W*x_train +b\n",
        "\n",
        "plt.plot(x_train, y_train, 'o')\n",
        "plt.plot(x_train, hypothesis, 'r-')\n",
        "plt.ylim(-8, 8)"
      ],
      "metadata": {
        "colab": {
          "base_uri": "https://localhost:8080/",
          "height": 287
        },
        "id": "7fcpldoRL2bO",
        "outputId": "7639e124-d037-4270-d405-93e65d36fa01"
      },
      "execution_count": 3,
      "outputs": [
        {
          "output_type": "execute_result",
          "data": {
            "text/plain": [
              "(-8.0, 8.0)"
            ]
          },
          "metadata": {},
          "execution_count": 3
        },
        {
          "output_type": "display_data",
          "data": {
            "text/plain": [
              "<Figure size 432x288 with 1 Axes>"
            ],
            "image/png": "[encoded data removed]"
          },
          "metadata": {
            "needs_background": "light"
          }
        }
      ]
    },
    {
      "cell_type": "code",
      "source": [
        "@tf.function  ##graph 만들기\n",
        "def cost_func(W, x_train, y_train, b):\n",
        "  hypothesis = W * x_train + b\n",
        "  return tf.reduce_mean(tf.square(hypothesis - y_train))"
      ],
      "metadata": {
        "id": "XlvU5ms9L7sX"
      },
      "execution_count": 4,
      "outputs": []
    },
    {
      "cell_type": "code",
      "source": [
        "learning_rate = 0.01\n",
        "for step in range(2001):\n",
        "  optimizer = tf.keras.optimizers.SGD(learning_rate)\n",
        "  with tf.GradientTape() as tape:\n",
        "    loss = cost_func(W, x_train, y_train, b)\n",
        "    \n",
        "  W_grad, b_grad = tape.gradient(loss, [W, b])\n",
        "  W.assign_sub(learning_rate * W_grad)\n",
        "  b.assign_sub(learning_rate * b_grad)\n",
        "#잘 학습하고 있는지 과정을 살펴보자\n",
        "  if step % 100 == 0:\n",
        "    print(step, W.numpy(), b.numpy(), loss)"
      ],
      "metadata": {
        "colab": {
          "base_uri": "https://localhost:8080/"
        },
        "id": "mYG1CHczL_8u",
        "outputId": "dfc69643-8b2b-48d6-b17c-45edda1f921a"
      },
      "execution_count": 6,
      "outputs": [
        {
          "output_type": "stream",
          "name": "stdout",
          "text": [
            "0 [-0.9212299] [0.47907493] tf.Tensor(17.378496, shape=(), dtype=float32)\n",
            "100 [0.61631346] [0.87217915] tf.Tensor(0.10965445, shape=(), dtype=float32)\n",
            "200 [0.6983963] [0.6856161] tf.Tensor(0.06775976, shape=(), dtype=float32)\n",
            "300 [0.7629121] [0.5389566] tf.Tensor(0.0418714, shape=(), dtype=float32)\n",
            "400 [0.81362724] [0.4236691] tf.Tensor(0.025873994, shape=(), dtype=float32)\n",
            "500 [0.85349405] [0.33304244] tf.Tensor(0.015988557, shape=(), dtype=float32)\n",
            "600 [0.884833] [0.2618017] tf.Tensor(0.009879944, shape=(), dtype=float32)\n",
            "700 [0.90946823] [0.2058] tf.Tensor(0.0061052083, shape=(), dtype=float32)\n",
            "800 [0.9288337] [0.16177757] tf.Tensor(0.0037726534, shape=(), dtype=float32)\n",
            "900 [0.9440569] [0.12717192] tf.Tensor(0.0023312669, shape=(), dtype=float32)\n",
            "1000 [0.9560236] [0.09996869] tf.Tensor(0.0014405823, shape=(), dtype=float32)\n",
            "1100 [0.96543056] [0.07858453] tf.Tensor(0.0008901937, shape=(), dtype=float32)\n",
            "1200 [0.9728253] [0.06177463] tf.Tensor(0.0005500847, shape=(), dtype=float32)\n",
            "1300 [0.97863823] [0.04856044] tf.Tensor(0.00033991807, shape=(), dtype=float32)\n",
            "1400 [0.98320764] [0.038173] tf.Tensor(0.00021004987, shape=(), dtype=float32)\n",
            "1500 [0.9867997] [0.0300074] tf.Tensor(0.0001297968, shape=(), dtype=float32)\n",
            "1600 [0.98962337] [0.02358854] tf.Tensor(8.020673e-05, shape=(), dtype=float32)\n",
            "1700 [0.9918431] [0.01854263] tf.Tensor(4.9562357e-05, shape=(), dtype=float32)\n",
            "1800 [0.9935879] [0.01457617] tf.Tensor(3.0626466e-05, shape=(), dtype=float32)\n",
            "1900 [0.9949595] [0.01145824] tf.Tensor(1.8925757e-05, shape=(), dtype=float32)\n",
            "2000 [0.9960377] [0.00900721] tf.Tensor(1.1694712e-05, shape=(), dtype=float32)\n"
          ]
        }
      ]
    },
    {
      "cell_type": "code",
      "source": [
        "hypothesis = W * x_train + b\n",
        "plt.plot(x_train, y_train, 'o')\n",
        "plt.plot(x_train, hypothesis, 'r-')\n",
        "plt.ylim(0, 8)"
      ],
      "metadata": {
        "colab": {
          "base_uri": "https://localhost:8080/",
          "height": 287
        },
        "id": "9epHKZtUMjAN",
        "outputId": "991263dd-e8e3-4ffd-969c-297d33f6671d"
      },
      "execution_count": 7,
      "outputs": [
        {
          "output_type": "execute_result",
          "data": {
            "text/plain": [
              "(0.0, 8.0)"
            ]
          },
          "metadata": {},
          "execution_count": 7
        },
        {
          "output_type": "display_data",
          "data": {
            "text/plain": [
              "<Figure size 432x288 with 1 Axes>"
            ],
            "image/png": "[encoded data removed]"
          },
          "metadata": {
            "needs_background": "light"
          }
        }
      ]
    }
  ]
}