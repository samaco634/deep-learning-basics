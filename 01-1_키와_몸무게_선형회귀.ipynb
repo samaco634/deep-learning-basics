{
  "cells": [
    {
      "cell_type": "markdown",
      "metadata": {
        "id": "view-in-github",
        "colab_type": "text"
      },
      "source": [
        "<a href=\"https://colab.research.google.com/github/samaco634/deep-learning-basics/blob/main/01-1_%ED%82%A4%EC%99%80_%EB%AA%B8%EB%AC%B4%EA%B2%8C_%EC%84%A0%ED%98%95%ED%9A%8C%EA%B7%80.ipynb\" target=\"_parent\"><img src=\"https://colab.research.google.com/assets/colab-badge.svg\" alt=\"Open In Colab\"/></a>"
      ]
    },
    {
      "cell_type": "markdown",
      "source": [
        "출처 : https://skettee.github.io/post/linear_regression/"
      ],
      "metadata": {
        "id": "elHBEspj-TZB"
      }
    },
    {
      "cell_type": "markdown",
      "source": [
        "https://www.kaggle.com/datasets/burnoutminer/heights-and-weights-dataset"
      ],
      "metadata": {
        "id": "ioo2JdlVswln"
      }
    },
    {
      "cell_type": "markdown",
      "metadata": {
        "id": "gsjXzLeAS-me"
      },
      "source": [
        "# 선형 회귀 (Linear Regression)\n",
        "\n",
        "Date: 2019-08-15  \n",
        "Author: skettee  \n",
        "Categories: Deep Learning, Linear Regression  \n",
        "Tags: Parameter, Loss function, Mean-squared error, Gradient Descent, Normalization\n",
        "<!--eofm-->"
      ]
    },
    {
      "cell_type": "markdown",
      "metadata": {
        "id": "ImpR7IzqS-mi"
      },
      "source": [
        "\n",
        "딥러닝의 세계로 들어가기 위해 알아야 하는 첫번째 모델인 선형 회귀(Linear Regression)에 대해 알아보고 keras를 이용해서 모델링을 해보자!\n"
      ]
    },
    {
      "cell_type": "markdown",
      "metadata": {
        "id": "3JGWb1LGS-mk"
      },
      "source": [
        "## 문제 (Problem)"
      ]
    },
    {
      "cell_type": "markdown",
      "metadata": {
        "id": "Y1yVa72fS-ml"
      },
      "source": [
        "💰 고객  \n",
        " \n",
        "> 우리 학교에는 '몸짱반'이 있어요.   \n",
        "> 여기에 들어가기 위해서는   \n",
        "> 키와 몸무게의      \n",
        "> 특별한 조건이 있는거 같아요.  \n",
        ">\n",
        "> '몸짱반'에 들어간 친구들의   \n",
        "> 키와 몸무게 데이터를 가지고   \n",
        "> 키가 주어지면   \n",
        "> '몸짱반'에 들어가기 위한 몸무게를  \n",
        "> 자동으로 알고 싶어요...  \n",
        ">\n",
        "> 만들어 줄 수 있지요? \n",
        ">\n",
        "> 데이터는 아래에 있어요  \n",
        "> https://skettee.github.io/post/linear_regression/momjjangban_data.csv\n",
        "\n"
      ]
    },
    {
      "cell_type": "markdown",
      "metadata": {
        "id": "jQEo-uceS-mo"
      },
      "source": [
        "## 데이터 수집 (Data Collection)\n",
        "\n",
        "데이터를 다운로드하고 데이터프레임으로 변환한다.  \n",
        "\n",
        "Keras의 get_file을 이용해서 데이터를 다운로드 한다."
      ]
    },
    {
      "cell_type": "code",
      "execution_count": null,
      "metadata": {
        "id": "AGdr4UjBS-mq"
      },
      "outputs": [],
      "source": [
        "from tensorflow.keras.utils import get_file\n",
        "\n",
        "fname = 'momjjangban_data.csv'\n",
        "origin = 'https://skettee.github.io/post/linear_regression/momjjangban_data.csv'\n",
        "path = get_file(fname, origin)"
      ]
    },
    {
      "cell_type": "markdown",
      "metadata": {
        "id": "NGwJG-HJS-mt"
      },
      "source": [
        "CSV파일을 읽어서 데이터프레임으로 변환한다.  "
      ]
    },
    {
      "cell_type": "code",
      "execution_count": null,
      "metadata": {
        "id": "7zQd54TRS-mu"
      },
      "outputs": [],
      "source": [
        "import numpy as np\n",
        "import pandas as pd\n",
        "\n",
        "df = pd.read_csv(path, index_col=0)\n",
        "\n",
        "df.head()"
      ]
    },
    {
      "cell_type": "markdown",
      "metadata": {
        "id": "3LsbdU82S-mw"
      },
      "source": [
        "## 데이터 클렌징 (Data Cleansing)\n",
        "\n",
        "데이터가 빵꾸난 것이 없는지 확인한다. 빵꾸난 데이터는 제거한다.  \n",
        "\n",
        "⚙️ 엔지니어\n",
        "\n",
        "> 얼굴만 클렌징하는거 아니다...  \n",
        "> 데이터도 클렌징해야 한다.  "
      ]
    },
    {
      "cell_type": "code",
      "execution_count": null,
      "metadata": {
        "id": "uTs7v9HtS-mx"
      },
      "outputs": [],
      "source": [
        "# Check nan\n",
        "df.isnull().any()"
      ]
    },
    {
      "cell_type": "code",
      "execution_count": null,
      "metadata": {
        "id": "D1urH-lgS-my"
      },
      "outputs": [],
      "source": [
        "# Remove row with nan\n",
        "df = df.dropna(axis=0).reset_index(drop=True)\n",
        "\n",
        "df.head()"
      ]
    },
    {
      "cell_type": "code",
      "execution_count": null,
      "metadata": {
        "id": "KsEk98-vS-mz"
      },
      "outputs": [],
      "source": [
        "height_data = df.height\n",
        "weight_data = df.weight\n",
        "\n",
        "print(height_data.shape)\n",
        "print(weight_data.shape)"
      ]
    },
    {
      "cell_type": "markdown",
      "metadata": {
        "id": "e73wrizgS-m1"
      },
      "source": [
        "## 데이터 분석 (Data Analysis)"
      ]
    },
    {
      "cell_type": "markdown",
      "metadata": {
        "id": "vRqCKNHTS-m2"
      },
      "source": [
        "데이터가 어떤 모양인지 확인해 보자."
      ]
    },
    {
      "cell_type": "code",
      "execution_count": null,
      "metadata": {
        "id": "n6wh7TsmS-m3"
      },
      "outputs": [],
      "source": [
        "%matplotlib inline\n",
        "\n",
        "import matplotlib.pyplot as plt\n",
        "\n",
        "plt.scatter(height_data, weight_data)\n",
        "plt.xlabel('height (cm)')\n",
        "plt.ylabel('weight (kg)')\n",
        "plt.show()"
      ]
    },
    {
      "cell_type": "markdown",
      "metadata": {
        "id": "jlPaEiJ6S-m4"
      },
      "source": [
        "⚙️ 엔지니어\n",
        "\n",
        "> 키가 커질 수록 몸무게가 선형(Linear)적으로 늘어나네~   \n",
        "> 직선으로 모델링을 할 수 있겠다.\n",
        "> \n",
        "> 모델링 작업이 편안하도록 주어진 데이터를 변환하자!"
      ]
    },
    {
      "cell_type": "markdown",
      "metadata": {
        "id": "cM5tvdgWS-m4"
      },
      "source": [
        "## 데이터 변환 (Data Transformation)"
      ]
    },
    {
      "cell_type": "markdown",
      "metadata": {
        "id": "h-Ev8DetS-m5"
      },
      "source": [
        "Keras, tensorflow등의 머신런닝 프레임워크를 사용하기 위해서는  \n",
        "각각이 요구하는 데이터의 형식 및 모양에 맞추어서 변환을 해 주어야 한다.  \n",
        "여기서는  키와 몸무게 데이터를 각각 매트릭스로 변환하자  \n",
        "\n",
        "- 열의 크기는 데이터의 개수      \n",
        "- 컬럼의 크기는 측정한 항목의 개수   \n",
        " \n",
        "키 값을 입력하면 '몸짱반'에 들어갈 수 있는 몸무게를 예측해야 한다. 키 데이터를 입력 $x$라고 하고 몸무게 데이터를 출력 $y$라고 하자 \n",
        "\n",
        "- 키 데이터는 50개의 '키'를 측정한 데이터가 있으므로 50X1 매트릭스   \n",
        "- 몸무게 데이터는 50개의 '몸무게'를 측정한 데이터가 있으므로 50X1 매트릭스이다.  \n",
        "\n",
        "⚙️ 엔지니어\n",
        "\n",
        "> 모델링을 하면서 골치 아픈 것 중에 하나는  \n",
        "> 입력과 출력의 모양(Shape)를 맞추어 주는 것이다.  \n",
        "> 복잡하다 ... 잘못하면 다크-디멘션에 빠진다...   \n",
        "> 뒤에서 더 자세하게 설명할 기회가 있을 것이다.  \n",
        "\n"
      ]
    },
    {
      "cell_type": "code",
      "source": [
        "print('x = ', height_data[:10])\n",
        "print('x.shape= ', height_data.shape)\n",
        "print('\\ny = ', weight_data[:10])\n",
        "print('y.shape= ', weight_data.shape)"
      ],
      "metadata": {
        "id": "TpfdEJ7-ovkO"
      },
      "execution_count": null,
      "outputs": []
    },
    {
      "cell_type": "code",
      "execution_count": null,
      "metadata": {
        "id": "iO-SXH0tS-m5"
      },
      "outputs": [],
      "source": [
        "x = np.array(height_data).reshape(len(height_data), 1)\n",
        "y = np.array(weight_data).reshape(len(weight_data), 1)\n",
        "\n",
        "print('x = ', x[:10])\n",
        "print('x.shape= ', x.shape)\n",
        "print('\\ny = ', y[:10])\n",
        "print('y.shape= ', y.shape)"
      ]
    },
    {
      "cell_type": "markdown",
      "metadata": {
        "id": "AKgSb5DdS-m6"
      },
      "source": [
        "⚙️ 엔지니어\n",
        "\n",
        "> 좋았어!   \n",
        "> \n",
        "> 그럼 변환된 데이터로 선형회귀(Linear Regression) 모델링을 시작해 보지"
      ]
    },
    {
      "cell_type": "markdown",
      "metadata": {
        "id": "Q7FWQQNbS-m6"
      },
      "source": [
        "## 선형 모델링 (Linear Modeling)"
      ]
    },
    {
      "cell_type": "markdown",
      "metadata": {
        "id": "EuHPGN_QS-m7"
      },
      "source": [
        "모델을 $y=wx+b$로 놓고   \n",
        "주어진 데이터에 가장 비슷한 직선을 표시하는 $w$와 $b$를 찾아 가는 것이 선형 모델링이다.  \n",
        "$w$는 직선의 기울기고 $b$는 $y$절편이라고 배웠지만, 이제 부터는 $w$는 **가중치(weight)** 로, $b$는 **바이어스(bias)** 로 부르자. 그리고 $w, b$를 선형 모델의 **파라미터(parameter)** 라고 한다.\n"
      ]
    },
    {
      "cell_type": "markdown",
      "metadata": {
        "id": "5YBsfHs8S-m_"
      },
      "source": [
        "## 케라스(Keras)로 모델링(Modeling)\n",
        "\n",
        "⚙️ 엔지니어\n",
        "\n",
        "> 좋았어!   \n",
        "> \n",
        "> 이제 텐서플로우(Tensorflow)가 냠냠한   \n",
        "> **케라스(Keras)**를 이용해서 구현을 해보자!"
      ]
    },
    {
      "cell_type": "markdown",
      "metadata": {
        "id": "4N2-i_-IS-m_"
      },
      "source": [
        "### 정규화(Normalization)\n",
        "  \n",
        "`정규값 = (현재값 - 최소값) / (최대값-최소값)` 으로 정규화 하자  \n",
        " \n",
        "그래프를 보면,  \n",
        "데이터의 모양은 그대로 유지하면서도  \n",
        "x축의 값이 0에서 1사이로 변환된 것을 볼 수 있다.  \n",
        "\n",
        "⚙️ 엔지니어  \n",
        "\n",
        "> 내가 해봐서 아는데...   \n",
        "> \n",
        "> 이거 안하면 엉뚱한 답이 나온다.\n",
        "> 꼭 해야됨!\n",
        "\n"
      ]
    },
    {
      "cell_type": "code",
      "execution_count": null,
      "metadata": {
        "id": "L08pNQkuS-nA"
      },
      "outputs": [],
      "source": [
        "from sklearn import preprocessing\n",
        "\n",
        "mm_scaler = preprocessing.MinMaxScaler()\n",
        "X_train = mm_scaler.fit_transform(x)\n",
        "Y_train = mm_scaler.transform(y)\n",
        "\n",
        "plt.scatter(X_train, Y_train)\n",
        "plt.xlabel('scaled-height')\n",
        "plt.ylabel('scaled-weight')\n",
        "plt.show()"
      ]
    },
    {
      "cell_type": "markdown",
      "metadata": {
        "id": "PjbzpOfvS-nA"
      },
      "source": [
        "### 모델링 (Modeling)\n",
        "\n",
        "⚙️ 엔지니어\n",
        "\n",
        "> 4줄로 모델링이 가능하다!   \n",
        "> \n",
        "> 케라스 만세!\n",
        "\n"
      ]
    },
    {
      "cell_type": "code",
      "source": [
        "from tensorflow.keras import Sequential\n",
        "from tensorflow.keras.layers import Dense\n",
        "\n",
        "# 모델을 준비한다.\n",
        "model = Sequential()\n",
        "\n",
        "# 입력 변수의 개수가 1이고 출력 개수가 1인 y=wx+b 를 생성한다.\n",
        "model.add(Dense(1, input_dim=1))\n",
        "\n",
        "# Loss funtion과 Optimizer를 선택한다.\n",
        "model.compile(loss='mean_squared_error', optimizer='sgd') \n",
        "\n",
        "model.summary()"
      ],
      "metadata": {
        "id": "22bVv4FzubtG"
      },
      "execution_count": null,
      "outputs": []
    },
    {
      "cell_type": "code",
      "execution_count": null,
      "metadata": {
        "id": "D5z5bbx9S-nB"
      },
      "outputs": [],
      "source": [
        "# epochs만큼 반복해서 손실값이 최저가 되도록 모델을 훈련한다.\n",
        "hist = model.fit(X_train, Y_train, epochs=300, verbose=1) "
      ]
    },
    {
      "cell_type": "markdown",
      "metadata": {
        "id": "YI13wVb8S-nC"
      },
      "source": [
        "### 손실값의 변화를 그래프로 확인"
      ]
    },
    {
      "cell_type": "code",
      "execution_count": null,
      "metadata": {
        "id": "oYI7WQAES-nC"
      },
      "outputs": [],
      "source": [
        "plt.plot(hist.history['loss'])\n",
        "plt.xlabel('epoch')\n",
        "plt.ylabel('loss')\n",
        "plt.show()"
      ]
    },
    {
      "cell_type": "markdown",
      "metadata": {
        "id": "RzFy89sMS-nD"
      },
      "source": [
        "⚙️ 엔지니어\n",
        "\n",
        "> 반복적으로 학습할 수록 손실(Loss)이 0에 가깝게 된다.  \n",
        "> 굿잡!"
      ]
    },
    {
      "cell_type": "markdown",
      "metadata": {
        "id": "ZLHWkU39S-nD"
      },
      "source": [
        "### $w$와 $b$값을 확인"
      ]
    },
    {
      "cell_type": "code",
      "execution_count": null,
      "metadata": {
        "id": "uUcLTJgfS-nD"
      },
      "outputs": [],
      "source": [
        "w, b = model.get_weights()\n",
        "w =  w[0][0]\n",
        "b = b[0]\n",
        "print('w: ', w)\n",
        "print('b: ', b)"
      ]
    },
    {
      "cell_type": "markdown",
      "metadata": {
        "id": "1ACGpsvpS-nE"
      },
      "source": [
        "### 그래프로 확인"
      ]
    },
    {
      "cell_type": "code",
      "execution_count": null,
      "metadata": {
        "id": "bHSfSYxzS-nE"
      },
      "outputs": [],
      "source": [
        "x_scale = mm_scaler.transform(x)\n",
        "y_scale = mm_scaler.transform(y)\n",
        "plt.scatter(x_scale, y_scale)\n",
        "plt.plot(x_scale, w*x_scale+b, 'r')\n",
        "plt.xlabel('scaled-height')\n",
        "plt.ylabel('scaled-weight')\n",
        "plt.show()"
      ]
    },
    {
      "cell_type": "markdown",
      "source": [
        "## 학습 횟수를 늘려 봅시다"
      ],
      "metadata": {
        "id": "2idtbxERs309"
      }
    },
    {
      "cell_type": "code",
      "source": [
        "# epochs만큼 반복해서 손실값이 최저가 되도록 모델을 훈련한다.\n",
        "hist = model.fit(X_train, Y_train, epochs=1000, verbose=1) "
      ],
      "metadata": {
        "id": "2VhHKigvs3K-"
      },
      "execution_count": null,
      "outputs": []
    },
    {
      "cell_type": "code",
      "source": [
        "w, b = model.get_weights()\n",
        "w =  w[0][0]\n",
        "b = b[0]\n",
        "print('w: ', w)\n",
        "print('b: ', b)"
      ],
      "metadata": {
        "id": "Sa3O_czGs-0V"
      },
      "execution_count": null,
      "outputs": []
    },
    {
      "cell_type": "code",
      "source": [
        "x_scale = mm_scaler.transform(x)\n",
        "y_scale = mm_scaler.transform(y)\n",
        "plt.scatter(x_scale, y_scale)\n",
        "plt.plot(x_scale, w*x_scale+b, 'r')\n",
        "plt.xlabel('scaled-height')\n",
        "plt.ylabel('scaled-weight')\n",
        "plt.show()"
      ],
      "metadata": {
        "id": "gN8dRhmotA62"
      },
      "execution_count": null,
      "outputs": []
    },
    {
      "cell_type": "markdown",
      "metadata": {
        "id": "ygsqI9kZS-nE"
      },
      "source": [
        "## 해결 (Solution)\n",
        "\n",
        "⚙️ 엔지니어  \n",
        "\n",
        "> 고객님~ 원하시는 솔루션입니다.   \n",
        "> input_height에 원하시는 키를 입력하시면    \n",
        "> '몸짱반'에 들어 갈 수 있는 몸무게가 자동으로 계산됩니다.    \n",
        "\n"
      ]
    },
    {
      "cell_type": "code",
      "execution_count": null,
      "metadata": {
        "id": "J0Fefk2FS-nF"
      },
      "outputs": [],
      "source": [
        "input_height = 178.0\n",
        "\n",
        "input_x = mm_scaler.transform(np.array([input_height]).reshape(-1, 1))\n",
        "predict = model.predict(input_x)\n",
        "predict = mm_scaler.inverse_transform(predict)\n",
        "\n",
        "print('몸짱반에 들어갈 수 있는 몸무게는 {:.2f} kg 입니다'.format(predict[0][0]))"
      ]
    }
  ],
  "metadata": {
    "kernelspec": {
      "display_name": "Python 3",
      "language": "python",
      "name": "python3"
    },
    "language_info": {
      "codemirror_mode": {
        "name": "ipython",
        "version": 3
      },
      "file_extension": ".py",
      "mimetype": "text/x-python",
      "name": "python",
      "nbconvert_exporter": "python",
      "pygments_lexer": "ipython3",
      "version": "3.7.3"
    },
    "colab": {
      "provenance": [],
      "include_colab_link": true
    }
  },
  "nbformat": 4,
  "nbformat_minor": 0
}