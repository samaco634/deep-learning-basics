{
  "cells": [
    {
      "cell_type": "markdown",
      "metadata": {
        "id": "view-in-github",
        "colab_type": "text"
      },
      "source": [
        "<a href=\"https://colab.research.google.com/github/samaco634/deep-learning-basics/blob/main/%5B%EB%94%A5%EB%9F%AC%EB%8B%9D%EA%B8%B0%EC%B4%88_03%5D%EC%86%90%EA%B8%80%EC%94%A8_%EC%9D%B8%EC%8B%9D_MNIST_in_Keras(CNN).ipynb\" target=\"_parent\"><img src=\"https://colab.research.google.com/assets/colab-badge.svg\" alt=\"Open In Colab\"/></a>"
      ]
    },
    {
      "cell_type": "code",
      "execution_count": null,
      "metadata": {
        "collapsed": true,
        "id": "tkCb9hATzYw6"
      },
      "outputs": [],
      "source": [
        "%matplotlib inline"
      ]
    },
    {
      "cell_type": "markdown",
      "metadata": {
        "id": "Bj2JROAkzYw9"
      },
      "source": [
        "# Introduction to Deep Learning with Keras and TensorFlow\n",
        "\n",
        "**Daniel Moser (UT Southwestern Medical Center)**\n",
        "\n",
        "**Resources: [Xavier Snelgrove](https://github.com/wxs/keras-mnist-tutorial), [Yash Katariya](https://github.com/yashk2810/MNIST-Keras)**"
      ]
    },
    {
      "cell_type": "markdown",
      "metadata": {
        "id": "HZyMkU2vzYxB"
      },
      "source": [
        "딥 러닝의 기본 사항을 이해하는 데 도움이 되도록 이 데모에서는 정확도가 95%를 초과하는 손글씨 숫자를 분류하기 위한 CNN을 소개합니다. CNN은컨볼루션과 풀링의 개념을 도입한 심층 네트워크입니다."
      ]
    },
    {
      "cell_type": "markdown",
      "metadata": {
        "id": "CxRNCw8CzYxC"
      },
      "source": [
        "## AI를 위한 과제\n",
        "\n",
        "우리의 목표는 수천 개의 손으로 쓴 숫자 이미지에 인공 신경망을 구성하고 훈련시켜 제시될 때 다른 사람을 성공적으로 식별할 수 있도록 하는 것입니다. 통합될 데이터는 훈련용 이미지 60,000개와 테스트 이미지 10,000개가 포함된 MNIST 데이터베이스입니다. TensorFlow를 백엔드로 사용하는 Keras Python API를 사용합니다."
      ]
    },
    {
      "cell_type": "markdown",
      "metadata": {
        "id": "sUamW7G2zYxD"
      },
      "source": [
        "<img src=\"https://github.com/AviatorMoser/keras-mnist-tutorial/blob/master/mnist.png?raw=1\" >"
      ]
    },
    {
      "cell_type": "markdown",
      "metadata": {
        "id": "Tv-PWwGFzYxE"
      },
      "source": [
        "## 필수 Python 모듈\n",
        "\n",
        "먼저 일부 소프트웨어를 Python 환경에 로드해야 합니다."
      ]
    },
    {
      "cell_type": "code",
      "execution_count": null,
      "metadata": {
        "id": "LwFcJpDuzYxF"
      },
      "outputs": [],
      "source": [
        "import numpy as np                   # advanced math library\n",
        "import matplotlib.pyplot as plt      # MATLAB like plotting routines\n",
        "import random                        # for generating random numbers\n",
        "\n",
        "from keras.datasets import mnist     # MNIST dataset is included in Keras\n",
        "from keras.models import Sequential  # Model type to be used\n",
        "\n",
        "from keras.layers.core import Dense, Dropout, Activation # Types of layers to be used in our model\n",
        "from keras.utils import np_utils                         # NumPy related tools"
      ]
    },
    {
      "cell_type": "markdown",
      "metadata": {
        "id": "OpwNdSZWzYxF"
      },
      "source": [
        "## 훈련 데이터 불러오기\n",
        "\n",
        "MNIST 데이터셋은 Keras 내에 편리하게 번들로 제공되며 Python에서 일부 기능을 쉽게 분석할 수 있습니다."
      ]
    },
    {
      "cell_type": "code",
      "execution_count": null,
      "metadata": {
        "id": "NVwCNKMGzYxG",
        "colab": {
          "base_uri": "https://localhost:8080/"
        },
        "outputId": "e109c1bf-00ee-4403-aa78-e4208ab238df"
      },
      "outputs": [
        {
          "output_type": "stream",
          "name": "stdout",
          "text": [
            "Downloading data from https://storage.googleapis.com/tensorflow/tf-keras-datasets/mnist.npz\n",
            "11490434/11490434 [==============================] - 2s 0us/step\n",
            "X_train shape (60000, 28, 28)\n",
            "y_train shape (60000,)\n",
            "X_test shape (10000, 28, 28)\n",
            "y_test shape (10000,)\n"
          ]
        }
      ],
      "source": [
        "# The MNIST data is split between 60,000 28 x 28 pixel training images and 10,000 28 x 28 pixel images\n",
        "(X_train, y_train), (X_test, y_test) = mnist.load_data()\n",
        "\n",
        "print(\"X_train shape\", X_train.shape)\n",
        "print(\"y_train shape\", y_train.shape)\n",
        "print(\"X_test shape\", X_test.shape)\n",
        "print(\"y_test shape\", y_test.shape)"
      ]
    },
    {
      "cell_type": "markdown",
      "metadata": {
        "id": "JRFTdFruzYxH"
      },
      "source": [
        "matplotlib를 사용하여 훈련 세트의 일부 샘플 이미지를 Jupyter Notebook에 직접 플롯할 수 있습니다."
      ]
    },
    {
      "cell_type": "code",
      "execution_count": null,
      "metadata": {
        "id": "oZJ-QaWNzYxH",
        "colab": {
          "base_uri": "https://localhost:8080/",
          "height": 657
        },
        "outputId": "58a540e2-2f88-482d-c609-89e179d9224a"
      },
      "outputs": [
        {
          "output_type": "display_data",
          "data": {
            "text/plain": [
              "<Figure size 648x648 with 9 Axes>"
            ],
            "image/png": "[encoded data removed]"
          },
          "metadata": {
            "needs_background": "light"
          }
        }
      ],
      "source": [
        "plt.rcParams['figure.figsize'] = (9,9) # Make the figures a bit bigger\n",
        "\n",
        "for i in range(9):\n",
        "    plt.subplot(3,3,i+1)\n",
        "    num = random.randint(0, len(X_train))\n",
        "    plt.imshow(X_train[num], cmap='gray', interpolation='none')\n",
        "    plt.title(\"Class {}\".format(y_train[num]))\n",
        "    \n",
        "plt.tight_layout()"
      ]
    },
    {
      "cell_type": "markdown",
      "metadata": {
        "id": "2b2_3FLhzYxI"
      },
      "source": [
        "한 자릿수를 조금 더 자세히 살펴보고 마지막 자릿수를 나타내는 배열을 출력해 보겠습니다."
      ]
    },
    {
      "cell_type": "markdown",
      "source": [
        "손글씨 한 장의 이미지는 28 x 28 = 784개의 픽셀로 이루어져 있습니다.\n",
        "\n",
        "아래 코드로 픽셀 정보를 눈으로 확인할 수 있습니다."
      ],
      "metadata": {
        "id": "erXgUSIuaHOQ"
      }
    },
    {
      "cell_type": "code",
      "execution_count": null,
      "metadata": {
        "id": "qnnDVXYYzYxJ",
        "colab": {
          "base_uri": "https://localhost:8080/"
        },
        "outputId": "404cb342-2c0f-4377-8d9c-5e7ea31964d6"
      },
      "outputs": [
        {
          "output_type": "stream",
          "name": "stdout",
          "text": [
            "0  0  0  0  0  0  0  0    0    0    0    0    0    0    0    0    0    0    0   0  0  0  0  0  0  0  0  0  \n",
            "0  0  0  0  0  0  0  0    0    0    0    0    0    0    0    0    0    0    0   0  0  0  0  0  0  0  0  0  \n",
            "0  0  0  0  0  0  0  0    0    0    0    0    0    0    0    0    0    0    0   0  0  0  0  0  0  0  0  0  \n",
            "0  0  0  0  0  0  0  0    0    0    0    0    0    0    0    0    0    0    0   0  0  0  0  0  0  0  0  0  \n",
            "0  0  0  0  0  0  0  0    0    0    0    0    0    0    0    0    0    0    0   0  0  0  0  0  0  0  0  0  \n",
            "0  0  0  0  0  0  0  0    0    0    0   46  175  254  224  101   11    0    0   0  0  0  0  0  0  0  0  0  \n",
            "0  0  0  0  0  0  0  0    0    0   72  233  253  253  236  253  198   50    0   0  0  0  0  0  0  0  0  0  \n",
            "0  0  0  0  0  0  0  0    0   46  233  253  149   23   11  133  252  233   46   0  0  0  0  0  0  0  0  0  \n",
            "0  0  0  0  0  0  0  0    0  162  253  228   14    0    0    0   87  243  196   0  0  0  0  0  0  0  0  0  \n",
            "0  0  0  0  0  0  0  0   45  245  253   98    0    0    0    0    0   85  253  45  0  0  0  0  0  0  0  0  \n",
            "0  0  0  0  0  0  0  0   84  255  247   35    0    0    0    0    0   28  237  67  0  0  0  0  0  0  0  0  \n",
            "0  0  0  0  0  0  0  0  149  254  176    0    0    0    0    0    4  151  174   0  0  0  0  0  0  0  0  0  \n",
            "0  0  0  0  0  0  0  0  149  254  119    0    0    0    0    0  129  253  223   0  0  0  0  0  0  0  0  0  \n",
            "0  0  0  0  0  0  0  0  149  254  186    3    0    0    0   29  189  253  240   0  0  0  0  0  0  0  0  0  \n",
            "0  0  0  0  0  0  0  0  128  254  253   15    0   23  158  231  253  253  178   0  0  0  0  0  0  0  0  0  \n",
            "0  0  0  0  0  0  0  0   67  255  254  205  214  254  255  254  254  254  170   0  0  0  0  0  0  0  0  0  \n",
            "0  0  0  0  0  0  0  0    0  135  253  253  253  253  163  128  253  253  104   0  0  0  0  0  0  0  0  0  \n",
            "0  0  0  0  0  0  0  0    0    2   54  133   89   23    0   60  253  253  104   0  0  0  0  0  0  0  0  0  \n",
            "0  0  0  0  0  0  0  0    0    0    0    0    0    0    0   74  253  253  104   0  0  0  0  0  0  0  0  0  \n",
            "0  0  0  0  0  0  0  0    0    0    0    0    0    0    0  134  253  253   60   0  0  0  0  0  0  0  0  0  \n",
            "0  0  0  0  0  0  0  0    0    0    0    0    0    0    0  135  254  254   30   0  0  0  0  0  0  0  0  0  \n",
            "0  0  0  0  0  0  0  0    0    0    0    0    0    0    0  196  253  229   14   0  0  0  0  0  0  0  0  0  \n",
            "0  0  0  0  0  0  0  0    0    0    0    0    0    0   20  238  253  208    0   0  0  0  0  0  0  0  0  0  \n",
            "0  0  0  0  0  0  0  0    0    0    0    0    0    0   30  253  253  208    9   0  0  0  0  0  0  0  0  0  \n",
            "0  0  0  0  0  0  0  0    0    0    0    0    0    0    4  148  253  133    0   0  0  0  0  0  0  0  0  0  \n",
            "0  0  0  0  0  0  0  0    0    0    0    0    0    0    0    0    0    0    0   0  0  0  0  0  0  0  0  0  \n",
            "0  0  0  0  0  0  0  0    0    0    0    0    0    0    0    0    0    0    0   0  0  0  0  0  0  0  0  0  \n",
            "0  0  0  0  0  0  0  0    0    0    0    0    0    0    0    0    0    0    0   0  0  0  0  0  0  0  0  0  \n"
          ]
        }
      ],
      "source": [
        "# just a little function for pretty printing a matrix\n",
        "def matprint(mat, fmt=\"g\"):\n",
        "    col_maxes = [max([len((\"{:\"+fmt+\"}\").format(x)) for x in col]) for col in mat.T]\n",
        "    for x in mat:\n",
        "        for i, y in enumerate(x):\n",
        "            print((\"{:\"+str(col_maxes[i])+fmt+\"}\").format(y), end=\"  \")\n",
        "        print(\"\")\n",
        "\n",
        "# now print!        \n",
        "matprint(X_train[num])"
      ]
    },
    {
      "cell_type": "markdown",
      "metadata": {
        "id": "aLF16RkWzYxK"
      },
      "source": [
        "각 픽셀은 0-255 사이의 8비트 정수입니다. 0은 완전한 검정이고 255는 완전한 흰색입니다. 이것을 단일 채널 픽셀이라고 합니다. 모노크롬이라고 합니다.\n",
        "\n",
        "*재미있는 사실! 컴퓨터 화면에는 각 픽셀에 대해 빨강, 녹색, 파랑의 세 가지 채널이 있습니다. 이러한 각 채널은 또한 8비트 정수를 사용합니다. 3개 채널 -- 총 24비트 -- 16,777,216가지 색상 가능!*"
      ]
    },
    {
      "cell_type": "markdown",
      "metadata": {
        "id": "mTtfUC_hzYxT"
      },
      "source": [
        "# Introducing Convolution! What is it?"
      ]
    },
    {
      "cell_type": "markdown",
      "metadata": {
        "id": "mh66UoBdzYxU"
      },
      "source": [
        "이전에는 각 값의 정규화된 픽셀 값을 받아들이고 해당 값에 대해서만 작동하는 네트워크를 구축했습니다. 대신 각 이미지의 다른 특징(예: **곡률, 가장자리**)을 네트워크에 제공하고 네트워크에서 이미지 분류에 중요한 특징을 학습하도록 할 수 있다면 어떨까요?\n",
        "\n",
        "이것은 회선을 통해 가능합니다! 컨볼루션은 각 이미지를 통과하고 **기능 맵**을 생성하는 **커널**(필터)을 적용합니다."
      ]
    },
    {
      "cell_type": "markdown",
      "metadata": {
        "id": "BtuNvMo9zYxU"
      },
      "source": [
        "<img src = 'convolution.gif' >"
      ]
    },
    {
      "cell_type": "markdown",
      "metadata": {
        "id": "VVAS7On2zYxU"
      },
      "source": [
        "위의 예에서 이미지는 5 x 5 행렬이고 그 위에 있는 커널은 3 x 3 행렬입니다. 이미지와 커널 사이에 내적 연산이 발생하고 컨볼루션 피쳐가 생성됩니다. CNN의 각 커널은 이미지의 다른 특성을 학습합니다.\n",
        "\n",
        "커널은 사진 편집 소프트웨어에서 흐림, 가장자리 감지, 선명하게 하기 등을 적용하는 데 자주 사용됩니다."
      ]
    },
    {
      "cell_type": "markdown",
      "metadata": {
        "id": "ah3STfYqzYxU"
      },
      "source": [
        "<img src = 'kernels.png' >"
      ]
    },
    {
      "cell_type": "markdown",
      "metadata": {
        "id": "f5gW8bxJzYxU"
      },
      "source": [
        "딥 러닝 네트워크의 커널은 유사한 방식으로 사용됩니다. 즉, 일부 기능을 강조 표시합니다. **max pooling**이라는 시스템과 결합하여 강조 표시되지 않은 요소는 각 기능 맵에서 삭제되어 관심 있는 기능만 남겨두고 학습된 매개변수의 수를 줄이고 계산 비용(예: 시스템 메모리)을 줄입니다."
      ]
    },
    {
      "cell_type": "markdown",
      "metadata": {
        "id": "V0UFzdQOzYxU"
      },
      "source": [
        "<img src = 'max_pooling.png' >"
      ]
    },
    {
      "cell_type": "markdown",
      "metadata": {
        "id": "gBVH5T5MzYxU"
      },
      "source": [
        "우리는 또한 컨볼루션의 컨볼루션을 사용할 수 있습니다. 커널에 맞는 충분한 픽셀이 있는 한 원하는 만큼 컨볼루션을 쌓을 수 있습니다.\n",
        "\n",
        "*경고: deep convolutions 에서 찾을 수 있는 내용은 인식할 수 없는 것처럼 보일 수 있습니다.*"
      ]
    },
    {
      "cell_type": "markdown",
      "metadata": {
        "id": "zDOGm6I_zYxU"
      },
      "source": [
        "<img src = 'go_deeper.jpg' >"
      ]
    },
    {
      "cell_type": "markdown",
      "metadata": {
        "id": "ZcdXO38-zYxV"
      },
      "source": [
        "## Building a \"Deep\" Convolutional Neural Network"
      ]
    },
    {
      "cell_type": "code",
      "execution_count": null,
      "metadata": {
        "collapsed": true,
        "id": "0IhF51OizYxV"
      },
      "outputs": [],
      "source": [
        "# import some additional tools\n",
        "\n",
        "from keras.preprocessing.image import ImageDataGenerator\n",
        "from keras.layers import Conv2D, MaxPooling2D, ZeroPadding2D, GlobalAveragePooling2D, Flatten\n",
        "from tensorflow.keras.layers import BatchNormalization"
      ]
    },
    {
      "cell_type": "code",
      "execution_count": null,
      "metadata": {
        "collapsed": true,
        "id": "nQus4NJvzYxV"
      },
      "outputs": [],
      "source": [
        "# Reload the MNIST data\n",
        "(X_train, y_train), (X_test, y_test) = mnist.load_data()"
      ]
    },
    {
      "cell_type": "code",
      "execution_count": null,
      "metadata": {
        "id": "FYYgsmMazYxV",
        "colab": {
          "base_uri": "https://localhost:8080/"
        },
        "outputId": "c8887119-c7c1-46ec-cce9-be491d4af64d"
      },
      "outputs": [
        {
          "output_type": "stream",
          "name": "stdout",
          "text": [
            "Training matrix shape (60000, 28, 28, 1)\n",
            "Testing matrix shape (10000, 28, 28, 1)\n"
          ]
        }
      ],
      "source": [
        "# Again, do some formatting\n",
        "# Except we do not flatten each image into a 784-length vector because we want to perform convolutions first\n",
        "\n",
        "X_train = X_train.reshape(60000, 28, 28, 1) #add an additional dimension to represent the single-channel\n",
        "X_test = X_test.reshape(10000, 28, 28, 1)\n",
        "\n",
        "X_train = X_train.astype('float32')         # change integers to 32-bit floating point numbers\n",
        "X_test = X_test.astype('float32')\n",
        "\n",
        "X_train /= 255                              # normalize each value for each pixel for the entire vector for each input\n",
        "X_test /= 255\n",
        "\n",
        "print(\"Training matrix shape\", X_train.shape)\n",
        "print(\"Testing matrix shape\", X_test.shape)"
      ]
    },
    {
      "cell_type": "code",
      "execution_count": null,
      "metadata": {
        "collapsed": true,
        "id": "eBPJRG8XzYxV"
      },
      "outputs": [],
      "source": [
        "# one-hot format classes\n",
        "\n",
        "nb_classes = 10 # number of unique digits\n",
        "\n",
        "Y_train = np_utils.to_categorical(y_train, nb_classes)\n",
        "Y_test = np_utils.to_categorical(y_test, nb_classes)"
      ]
    },
    {
      "cell_type": "code",
      "execution_count": null,
      "metadata": {
        "collapsed": true,
        "id": "18Ivhi2tzYxW"
      },
      "outputs": [],
      "source": [
        "model = Sequential()                                 # Linear stacking of layers\n",
        "\n",
        "# Convolution Layer 1\n",
        "model.add(Conv2D(32, (3, 3), input_shape=(28,28,1))) # 32 different 3x3 kernels -- so 32 feature maps\n",
        "model.add(BatchNormalization(axis=-1))               # normalize each feature map before activation\n",
        "convLayer01 = Activation('relu')                     # activation\n",
        "model.add(convLayer01)\n",
        "\n",
        "# Convolution Layer 2\n",
        "model.add(Conv2D(32, (3, 3)))                        # 32 different 3x3 kernels -- so 32 feature maps\n",
        "model.add(BatchNormalization(axis=-1))               # normalize each feature map before activation\n",
        "model.add(Activation('relu'))                        # activation\n",
        "convLayer02 = MaxPooling2D(pool_size=(2,2))          # Pool the max values over a 2x2 kernel\n",
        "model.add(convLayer02)\n",
        "\n",
        "# Convolution Layer 3\n",
        "model.add(Conv2D(64,(3, 3)))                         # 64 different 3x3 kernels -- so 64 feature maps\n",
        "model.add(BatchNormalization(axis=-1))               # normalize each feature map before activation\n",
        "convLayer03 = Activation('relu')                     # activation\n",
        "model.add(convLayer03)\n",
        "\n",
        "# Convolution Layer 4\n",
        "model.add(Conv2D(64, (3, 3)))                        # 64 different 3x3 kernels -- so 64 feature maps\n",
        "model.add(BatchNormalization(axis=-1))               # normalize each feature map before activation\n",
        "model.add(Activation('relu'))                        # activation\n",
        "convLayer04 = MaxPooling2D(pool_size=(2,2))          # Pool the max values over a 2x2 kernel\n",
        "model.add(convLayer04)\n",
        "model.add(Flatten())                                 # Flatten final 4x4x64 output matrix into a 1024-length vector\n",
        "\n",
        "# Fully Connected Layer 5\n",
        "model.add(Dense(512))                                # 512 FCN nodes\n",
        "model.add(BatchNormalization())                      # normalization\n",
        "model.add(Activation('relu'))                        # activation\n",
        "\n",
        "# Fully Connected Layer 6                       \n",
        "model.add(Dropout(0.2))                              # 20% dropout of randomly selected nodes\n",
        "model.add(Dense(10))                                 # final 10 FCN nodes\n",
        "model.add(Activation('softmax'))                     # softmax activation"
      ]
    },
    {
      "cell_type": "code",
      "execution_count": null,
      "metadata": {
        "id": "5jhoqKDMzYxW",
        "colab": {
          "base_uri": "https://localhost:8080/"
        },
        "outputId": "da1bb478-9681-4d81-8477-6745c582ae8c"
      },
      "outputs": [
        {
          "output_type": "stream",
          "name": "stdout",
          "text": [
            "Model: \"sequential\"\n",
            "_________________________________________________________________\n",
            " Layer (type)                Output Shape              Param #   \n",
            "=================================================================\n",
            " conv2d (Conv2D)             (None, 26, 26, 32)        320       \n",
            "                                                                 \n",
            " batch_normalization (BatchN  (None, 26, 26, 32)       128       \n",
            " ormalization)                                                   \n",
            "                                                                 \n",
            " activation (Activation)     (None, 26, 26, 32)        0         \n",
            "                                                                 \n",
            " conv2d_1 (Conv2D)           (None, 24, 24, 32)        9248      \n",
            "                                                                 \n",
            " batch_normalization_1 (Batc  (None, 24, 24, 32)       128       \n",
            " hNormalization)                                                 \n",
            "                                                                 \n",
            " activation_1 (Activation)   (None, 24, 24, 32)        0         \n",
            "                                                                 \n",
            " max_pooling2d (MaxPooling2D  (None, 12, 12, 32)       0         \n",
            " )                                                               \n",
            "                                                                 \n",
            " conv2d_2 (Conv2D)           (None, 10, 10, 64)        18496     \n",
            "                                                                 \n",
            " batch_normalization_2 (Batc  (None, 10, 10, 64)       256       \n",
            " hNormalization)                                                 \n",
            "                                                                 \n",
            " activation_2 (Activation)   (None, 10, 10, 64)        0         \n",
            "                                                                 \n",
            " conv2d_3 (Conv2D)           (None, 8, 8, 64)          36928     \n",
            "                                                                 \n",
            " batch_normalization_3 (Batc  (None, 8, 8, 64)         256       \n",
            " hNormalization)                                                 \n",
            "                                                                 \n",
            " activation_3 (Activation)   (None, 8, 8, 64)          0         \n",
            "                                                                 \n",
            " max_pooling2d_1 (MaxPooling  (None, 4, 4, 64)         0         \n",
            " 2D)                                                             \n",
            "                                                                 \n",
            " flatten (Flatten)           (None, 1024)              0         \n",
            "                                                                 \n",
            " dense (Dense)               (None, 512)               524800    \n",
            "                                                                 \n",
            " batch_normalization_4 (Batc  (None, 512)              2048      \n",
            " hNormalization)                                                 \n",
            "                                                                 \n",
            " activation_4 (Activation)   (None, 512)               0         \n",
            "                                                                 \n",
            " dropout (Dropout)           (None, 512)               0         \n",
            "                                                                 \n",
            " dense_1 (Dense)             (None, 10)                5130      \n",
            "                                                                 \n",
            " activation_5 (Activation)   (None, 10)                0         \n",
            "                                                                 \n",
            "=================================================================\n",
            "Total params: 597,738\n",
            "Trainable params: 596,330\n",
            "Non-trainable params: 1,408\n",
            "_________________________________________________________________\n"
          ]
        }
      ],
      "source": [
        "model.summary()"
      ]
    },
    {
      "cell_type": "code",
      "execution_count": null,
      "metadata": {
        "collapsed": true,
        "id": "WD0Pb07szYxW"
      },
      "outputs": [],
      "source": [
        "# we'll use the same optimizer\n",
        "\n",
        "model.compile(loss='categorical_crossentropy', optimizer='adam', metrics=['accuracy'])"
      ]
    },
    {
      "cell_type": "code",
      "execution_count": null,
      "metadata": {
        "id": "wI-9PZh2zYxX",
        "colab": {
          "base_uri": "https://localhost:8080/"
        },
        "outputId": "7e7ea2fe-1f3a-4a21-a0af-89ce1aa63a6e"
      },
      "outputs": [
        {
          "output_type": "stream",
          "name": "stdout",
          "text": [
            "Epoch 1/5\n",
            "1875/1875 [==============================] - 21s 6ms/step - loss: 0.0835 - accuracy: 0.9738 - val_loss: 0.0354 - val_accuracy: 0.9885\n",
            "Epoch 2/5\n",
            "1875/1875 [==============================] - 11s 6ms/step - loss: 0.0420 - accuracy: 0.9868 - val_loss: 0.0375 - val_accuracy: 0.9877\n",
            "Epoch 3/5\n",
            "1875/1875 [==============================] - 11s 6ms/step - loss: 0.0333 - accuracy: 0.9898 - val_loss: 0.0226 - val_accuracy: 0.9929\n",
            "Epoch 4/5\n",
            "1875/1875 [==============================] - 11s 6ms/step - loss: 0.0255 - accuracy: 0.9922 - val_loss: 0.0252 - val_accuracy: 0.9925\n",
            "Epoch 5/5\n",
            "1875/1875 [==============================] - 12s 6ms/step - loss: 0.0237 - accuracy: 0.9923 - val_loss: 0.0240 - val_accuracy: 0.9925\n"
          ]
        },
        {
          "output_type": "execute_result",
          "data": {
            "text/plain": [
              "<keras.callbacks.History at 0x7f3d601ef450>"
            ]
          },
          "metadata": {},
          "execution_count": 13
        }
      ],
      "source": [
        "model.fit(X_train,Y_train, epochs=5, verbose=1, \n",
        "                    validation_data=(X_test, Y_test))"
      ]
    },
    {
      "cell_type": "code",
      "execution_count": null,
      "metadata": {
        "id": "yj-kFJvbzYxX",
        "colab": {
          "base_uri": "https://localhost:8080/"
        },
        "outputId": "3a798291-0d55-41bf-8d34-95e4fc810b83"
      },
      "outputs": [
        {
          "output_type": "stream",
          "name": "stdout",
          "text": [
            "313/313 [==============================] - 1s 4ms/step - loss: 0.0240 - accuracy: 0.9925\n",
            "Test score: 0.024007363244891167\n",
            "Test accuracy: 0.9925000071525574\n"
          ]
        }
      ],
      "source": [
        "score = model.evaluate(X_test, Y_test)\n",
        "print('Test score:', score[0])\n",
        "print('Test accuracy:', score[1])"
      ]
    },
    {
      "cell_type": "code",
      "source": [
        "'''\n",
        "def prediction(image, model):\n",
        "    img = cv2.resize(image, (28, 28))\n",
        "    img = img / 255\n",
        "    img = img.reshape(1, 28, 28, 1)\n",
        "    predict = model.predict(img)\n",
        "    prob = np.amax(predict)\n",
        "    class_index = model.predict_classes(img)\n",
        "    result = class_index[0]\n",
        "    if prob < 0.75:\n",
        "        result = 0\n",
        "        prob = 0\n",
        "    return result, prob\n",
        "    '''"
      ],
      "metadata": {
        "colab": {
          "base_uri": "https://localhost:8080/",
          "height": 54
        },
        "id": "xXULFGd6Liph",
        "outputId": "708adf7c-f5f7-449a-eec2-23a6e7e06cfe"
      },
      "execution_count": null,
      "outputs": [
        {
          "output_type": "execute_result",
          "data": {
            "text/plain": [
              "'\\ndef prediction(image, model):\\n    img = cv2.resize(image, (28, 28))\\n    img = img / 255\\n    img = img.reshape(1, 28, 28, 1)\\n    predict = model.predict(img)\\n    prob = np.amax(predict)\\n    class_index = model.predict_classes(img)\\n    result = class_index[0]\\n    if prob < 0.75:\\n        result = 0\\n        prob = 0\\n    return result, prob\\n    '"
            ],
            "application/vnd.google.colaboratory.intrinsic+json": {
              "type": "string"
            }
          },
          "metadata": {},
          "execution_count": 17
        }
      ]
    },
    {
      "cell_type": "code",
      "source": [
        "# import dependencies\n",
        "from IPython.display import display, Javascript, Image\n",
        "from google.colab.output import eval_js\n",
        "from base64 import b64decode, b64encode\n",
        "import cv2\n",
        "import numpy as np\n",
        "import PIL\n",
        "import io\n",
        "import html\n",
        "import time"
      ],
      "metadata": {
        "id": "TlcT7sYgL6_A"
      },
      "execution_count": null,
      "outputs": []
    },
    {
      "cell_type": "code",
      "source": [
        "# function to convert the JavaScript object into an OpenCV image\n",
        "def js_to_image(js_reply):\n",
        "  \"\"\"\n",
        "  Params:\n",
        "          js_reply: JavaScript object containing image from webcam\n",
        "  Returns:\n",
        "          img: OpenCV BGR image\n",
        "  \"\"\"\n",
        "  # decode base64 image\n",
        "  image_bytes = b64decode(js_reply.split(',')[1])\n",
        "  # convert bytes to numpy array\n",
        "  jpg_as_np = np.frombuffer(image_bytes, dtype=np.uint8)\n",
        "  # decode numpy array into OpenCV BGR image\n",
        "  img = cv2.imdecode(jpg_as_np, flags=1)\n",
        "\n",
        "  return img\n",
        "\n",
        "# function to convert OpenCV Rectangle bounding box image into base64 byte string to be overlayed on video stream\n",
        "def bbox_to_bytes(bbox_array):\n",
        "  \"\"\"\n",
        "  Params:\n",
        "          bbox_array: Numpy array (pixels) containing rectangle to overlay on video stream.\n",
        "  Returns:\n",
        "        bytes: Base64 image byte string\n",
        "  \"\"\"\n",
        "  # convert array into PIL image\n",
        "  bbox_PIL = PIL.Image.fromarray(bbox_array, 'RGBA')\n",
        "  iobuf = io.BytesIO()\n",
        "  # format bbox into png for return\n",
        "  bbox_PIL.save(iobuf, format='png')\n",
        "  # format return string\n",
        "  bbox_bytes = 'data:image/png;base64,{}'.format((str(b64encode(iobuf.getvalue()), 'utf-8')))\n",
        "\n",
        "  return bbox_bytes"
      ],
      "metadata": {
        "id": "beYvM02ML-2w"
      },
      "execution_count": null,
      "outputs": []
    },
    {
      "cell_type": "code",
      "source": [
        "# JavaScript to properly create our live video stream using our webcam as input\n",
        "def video_stream():\n",
        "  js = Javascript('''\n",
        "    var video;\n",
        "    var div = null;\n",
        "    var stream;\n",
        "    var captureCanvas;\n",
        "    var imgElement;\n",
        "    var labelElement;\n",
        "    \n",
        "    var pendingResolve = null;\n",
        "    var shutdown = false;\n",
        "    \n",
        "    function removeDom() {\n",
        "       stream.getVideoTracks()[0].stop();\n",
        "       video.remove();\n",
        "       div.remove();\n",
        "       video = null;\n",
        "       div = null;\n",
        "       stream = null;\n",
        "       imgElement = null;\n",
        "       captureCanvas = null;\n",
        "       labelElement = null;\n",
        "    }\n",
        "    \n",
        "    function onAnimationFrame() {\n",
        "      if (!shutdown) {\n",
        "        window.requestAnimationFrame(onAnimationFrame);\n",
        "      }\n",
        "      if (pendingResolve) {\n",
        "        var result = \"\";\n",
        "        if (!shutdown) {\n",
        "          captureCanvas.getContext('2d').drawImage(video, 0, 0, 640, 480);\n",
        "          result = captureCanvas.toDataURL('image/jpeg', 0.8)\n",
        "        }\n",
        "        var lp = pendingResolve;\n",
        "        pendingResolve = null;\n",
        "        lp(result);\n",
        "      }\n",
        "    }\n",
        "    \n",
        "    async function createDom() {\n",
        "      if (div !== null) {\n",
        "        return stream;\n",
        "      }\n",
        "\n",
        "      div = document.createElement('div');\n",
        "      div.style.border = '2px solid black';\n",
        "      div.style.padding = '3px';\n",
        "      div.style.width = '100%';\n",
        "      div.style.maxWidth = '600px';\n",
        "      document.body.appendChild(div);\n",
        "      \n",
        "      const modelOut = document.createElement('div');\n",
        "      modelOut.innerHTML = \"<span>Status:</span>\";\n",
        "      labelElement = document.createElement('span');\n",
        "      labelElement.innerText = 'No data';\n",
        "      labelElement.style.fontWeight = 'bold';\n",
        "      modelOut.appendChild(labelElement);\n",
        "      div.appendChild(modelOut);\n",
        "           \n",
        "      video = document.createElement('video');\n",
        "      video.style.display = 'block';\n",
        "      video.width = div.clientWidth - 6;\n",
        "      video.setAttribute('playsinline', '');\n",
        "      video.onclick = () => { shutdown = true; };\n",
        "      stream = await navigator.mediaDevices.getUserMedia(\n",
        "          {video: { facingMode: \"environment\"}});\n",
        "      div.appendChild(video);\n",
        "\n",
        "      imgElement = document.createElement('img');\n",
        "      imgElement.style.position = 'absolute';\n",
        "      imgElement.style.zIndex = 1;\n",
        "      imgElement.onclick = () => { shutdown = true; };\n",
        "      div.appendChild(imgElement);\n",
        "      \n",
        "      const instruction = document.createElement('div');\n",
        "      instruction.innerHTML = \n",
        "          '<span style=\"color: red; font-weight: bold;\">' +\n",
        "          'When finished, click here or on the video to stop this demo</span>';\n",
        "      div.appendChild(instruction);\n",
        "      instruction.onclick = () => { shutdown = true; };\n",
        "      \n",
        "      video.srcObject = stream;\n",
        "      await video.play();\n",
        "\n",
        "      captureCanvas = document.createElement('canvas');\n",
        "      captureCanvas.width = 640; //video.videoWidth;\n",
        "      captureCanvas.height = 480; //video.videoHeight;\n",
        "      window.requestAnimationFrame(onAnimationFrame);\n",
        "      \n",
        "      return stream;\n",
        "    }\n",
        "    async function stream_frame(label, imgData) {\n",
        "      if (shutdown) {\n",
        "        removeDom();\n",
        "        shutdown = false;\n",
        "        return '';\n",
        "      }\n",
        "\n",
        "      var preCreate = Date.now();\n",
        "      stream = await createDom();\n",
        "      \n",
        "      var preShow = Date.now();\n",
        "      if (label != \"\") {\n",
        "        labelElement.innerHTML = label;\n",
        "      }\n",
        "            \n",
        "      if (imgData != \"\") {\n",
        "        var videoRect = video.getClientRects()[0];\n",
        "        imgElement.style.top = videoRect.top + \"px\";\n",
        "        imgElement.style.left = videoRect.left + \"px\";\n",
        "        imgElement.style.width = videoRect.width + \"px\";\n",
        "        imgElement.style.height = videoRect.height + \"px\";\n",
        "        imgElement.src = imgData;\n",
        "      }\n",
        "      \n",
        "      var preCapture = Date.now();\n",
        "      var result = await new Promise(function(resolve, reject) {\n",
        "        pendingResolve = resolve;\n",
        "      });\n",
        "      shutdown = false;\n",
        "      \n",
        "      return {'create': preShow - preCreate, \n",
        "              'show': preCapture - preShow, \n",
        "              'capture': Date.now() - preCapture,\n",
        "              'img': result};\n",
        "    }\n",
        "    ''')\n",
        "\n",
        "  display(js)\n",
        "  \n",
        "def video_frame(label, bbox):\n",
        "  data = eval_js('stream_frame(\"{}\", \"{}\")'.format(label, bbox))\n",
        "  return data"
      ],
      "metadata": {
        "id": "84fvIrfUMOpR"
      },
      "execution_count": null,
      "outputs": []
    },
    {
      "cell_type": "code",
      "source": [
        "def get_numbers(y_pred):\n",
        "    for number, per in enumerate(y_pred[0]):\n",
        "        if per != 0:\n",
        "            final_number = str(int(number))\n",
        "            per = round((per * 100), 2)\n",
        "            return final_number, per"
      ],
      "metadata": {
        "id": "qmPJCr1oTW-H"
      },
      "execution_count": null,
      "outputs": []
    },
    {
      "cell_type": "code",
      "source": [
        "# start streaming video from webcam\n",
        "video_stream()\n",
        "# label for video\n",
        "label_html = 'Capturing...'\n",
        "# initialze bounding box to empty\n",
        "bbox = ''\n",
        "count = 0 \n",
        "while True:\n",
        "    js_reply = video_frame(label_html, bbox)\n",
        "    if not js_reply:\n",
        "        break\n",
        "\n",
        "    # convert JS response to OpenCV Image\n",
        "    frame = js_to_image(js_reply[\"img\"])\n",
        "\n",
        "    # create transparent overlay for bounding box\n",
        "    bbox_array = np.zeros([480,640,4], dtype=np.uint8)\n",
        "\n",
        "    # predict digit on video frame\n",
        "    img_gray = cv2.cvtColor(frame, cv2.COLOR_RGB2GRAY)\n",
        "    ret, thresh = cv2.threshold(img_gray, 120, 255, cv2.THRESH_BINARY_INV)\n",
        "\n",
        "    contours, hierachy = cv2.findContours(thresh, cv2.RETR_EXTERNAL, cv2.CHAIN_APPROX_SIMPLE)\n",
        "    #cv2.drawContours(bbox_array, contours, -1, (0, 255, 0), 3)\n",
        "\n",
        "    try:\n",
        "        for contour in contours:\n",
        "            (x, y), radius = cv2.minEnclosingCircle(contour)\n",
        "            if radius > 10: #noise버리기\n",
        "                xs, xe = int(x-radius), int(x+radius)\n",
        "                ys, ye = int(y-radius), int(y+radius)\n",
        "\n",
        "                bbox_array = cv2.rectangle(bbox_array, (xs, ys), (xe, ye), (255, 255, 0), 2)\n",
        "                roi = thresh[ys:ye, xs:xe]\n",
        "                dst = cv2.resize(roi, dsize =(40, 40), interpolation=cv2.INTER_AREA)\n",
        "                dst = cv2.resize(dst, dsize =(20, 20), interpolation=cv2.INTER_AREA)\n",
        "                \n",
        "#                        print(dst)\n",
        "                A = np.zeros((28, 28))\n",
        "                A[4:-4, 4:-4] = dst[:,:]\n",
        "                A = A/255\n",
        "                A = A.reshape(-1, 28, 28, 1)\n",
        "                num = np.argmax(model.predict(A, verbose=0))\n",
        "                bbox_array = cv2.putText(bbox_array, str(num), (xs, ys),  cv2.FONT_HERSHEY_PLAIN, 2, (255,0,0))\n",
        "#                        print(roi.shape)\n",
        "\n",
        "                \n",
        "    except Exception as e:\n",
        "        pass\n",
        "\n",
        "    bbox_array[:,:,3] = (bbox_array.max(axis = 2) > 0 ).astype(int) * 255\n",
        "    # convert overlay of bbox into bytes\n",
        "    bbox_bytes = bbox_to_bytes(bbox_array)\n",
        "    # update bbox so next frame gets new overlay\n",
        "    bbox = bbox_bytes"
      ],
      "metadata": {
        "colab": {
          "base_uri": "https://localhost:8080/",
          "height": 17
        },
        "id": "Howj-VDkMQx7",
        "outputId": "7bd684dd-7884-405a-8741-261ccb66c797"
      },
      "execution_count": null,
      "outputs": [
        {
          "output_type": "display_data",
          "data": {
            "text/plain": [
              "<IPython.core.display.Javascript object>"
            ],
            "application/javascript": [
              "\n",
              "    var video;\n",
              "    var div = null;\n",
              "    var stream;\n",
              "    var captureCanvas;\n",
              "    var imgElement;\n",
              "    var labelElement;\n",
              "    \n",
              "    var pendingResolve = null;\n",
              "    var shutdown = false;\n",
              "    \n",
              "    function removeDom() {\n",
              "       stream.getVideoTracks()[0].stop();\n",
              "       video.remove();\n",
              "       div.remove();\n",
              "       video = null;\n",
              "       div = null;\n",
              "       stream = null;\n",
              "       imgElement = null;\n",
              "       captureCanvas = null;\n",
              "       labelElement = null;\n",
              "    }\n",
              "    \n",
              "    function onAnimationFrame() {\n",
              "      if (!shutdown) {\n",
              "        window.requestAnimationFrame(onAnimationFrame);\n",
              "      }\n",
              "      if (pendingResolve) {\n",
              "        var result = \"\";\n",
              "        if (!shutdown) {\n",
              "          captureCanvas.getContext('2d').drawImage(video, 0, 0, 640, 480);\n",
              "          result = captureCanvas.toDataURL('image/jpeg', 0.8)\n",
              "        }\n",
              "        var lp = pendingResolve;\n",
              "        pendingResolve = null;\n",
              "        lp(result);\n",
              "      }\n",
              "    }\n",
              "    \n",
              "    async function createDom() {\n",
              "      if (div !== null) {\n",
              "        return stream;\n",
              "      }\n",
              "\n",
              "      div = document.createElement('div');\n",
              "      div.style.border = '2px solid black';\n",
              "      div.style.padding = '3px';\n",
              "      div.style.width = '100%';\n",
              "      div.style.maxWidth = '600px';\n",
              "      document.body.appendChild(div);\n",
              "      \n",
              "      const modelOut = document.createElement('div');\n",
              "      modelOut.innerHTML = \"<span>Status:</span>\";\n",
              "      labelElement = document.createElement('span');\n",
              "      labelElement.innerText = 'No data';\n",
              "      labelElement.style.fontWeight = 'bold';\n",
              "      modelOut.appendChild(labelElement);\n",
              "      div.appendChild(modelOut);\n",
              "           \n",
              "      video = document.createElement('video');\n",
              "      video.style.display = 'block';\n",
              "      video.width = div.clientWidth - 6;\n",
              "      video.setAttribute('playsinline', '');\n",
              "      video.onclick = () => { shutdown = true; };\n",
              "      stream = await navigator.mediaDevices.getUserMedia(\n",
              "          {video: { facingMode: \"environment\"}});\n",
              "      div.appendChild(video);\n",
              "\n",
              "      imgElement = document.createElement('img');\n",
              "      imgElement.style.position = 'absolute';\n",
              "      imgElement.style.zIndex = 1;\n",
              "      imgElement.onclick = () => { shutdown = true; };\n",
              "      div.appendChild(imgElement);\n",
              "      \n",
              "      const instruction = document.createElement('div');\n",
              "      instruction.innerHTML = \n",
              "          '<span style=\"color: red; font-weight: bold;\">' +\n",
              "          'When finished, click here or on the video to stop this demo</span>';\n",
              "      div.appendChild(instruction);\n",
              "      instruction.onclick = () => { shutdown = true; };\n",
              "      \n",
              "      video.srcObject = stream;\n",
              "      await video.play();\n",
              "\n",
              "      captureCanvas = document.createElement('canvas');\n",
              "      captureCanvas.width = 640; //video.videoWidth;\n",
              "      captureCanvas.height = 480; //video.videoHeight;\n",
              "      window.requestAnimationFrame(onAnimationFrame);\n",
              "      \n",
              "      return stream;\n",
              "    }\n",
              "    async function stream_frame(label, imgData) {\n",
              "      if (shutdown) {\n",
              "        removeDom();\n",
              "        shutdown = false;\n",
              "        return '';\n",
              "      }\n",
              "\n",
              "      var preCreate = Date.now();\n",
              "      stream = await createDom();\n",
              "      \n",
              "      var preShow = Date.now();\n",
              "      if (label != \"\") {\n",
              "        labelElement.innerHTML = label;\n",
              "      }\n",
              "            \n",
              "      if (imgData != \"\") {\n",
              "        var videoRect = video.getClientRects()[0];\n",
              "        imgElement.style.top = videoRect.top + \"px\";\n",
              "        imgElement.style.left = videoRect.left + \"px\";\n",
              "        imgElement.style.width = videoRect.width + \"px\";\n",
              "        imgElement.style.height = videoRect.height + \"px\";\n",
              "        imgElement.src = imgData;\n",
              "      }\n",
              "      \n",
              "      var preCapture = Date.now();\n",
              "      var result = await new Promise(function(resolve, reject) {\n",
              "        pendingResolve = resolve;\n",
              "      });\n",
              "      shutdown = false;\n",
              "      \n",
              "      return {'create': preShow - preCreate, \n",
              "              'show': preCapture - preShow, \n",
              "              'capture': Date.now() - preCapture,\n",
              "              'img': result};\n",
              "    }\n",
              "    "
            ]
          },
          "metadata": {}
        }
      ]
    },
    {
      "cell_type": "code",
      "source": [
        "model.save(\"mnist.h5\")"
      ],
      "metadata": {
        "id": "8jZ3a-8LR6Cb"
      },
      "execution_count": null,
      "outputs": []
    }
  ],
  "metadata": {
    "kernelspec": {
      "display_name": "Tensorflow (GPU)",
      "language": "python",
      "name": "py3.6-tfgpu"
    },
    "language_info": {
      "codemirror_mode": {
        "name": "ipython",
        "version": 3
      },
      "file_extension": ".py",
      "mimetype": "text/x-python",
      "name": "python",
      "nbconvert_exporter": "python",
      "pygments_lexer": "ipython3",
      "version": "3.6.6"
    },
    "colab": {
      "provenance": [],
      "include_colab_link": true
    },
    "accelerator": "GPU",
    "gpuClass": "standard"
  },
  "nbformat": 4,
  "nbformat_minor": 0
}
