{
  "nbformat": 4,
  "nbformat_minor": 0,
  "metadata": {
    "colab": {
      "provenance": [],
      "authorship_tag": "ABX9TyMWy2XKAK3Vi6SQJCkvRej7",
      "include_colab_link": true
    },
    "kernelspec": {
      "name": "python3",
      "display_name": "Python 3"
    },
    "language_info": {
      "name": "python"
    }
  },
  "cells": [
    {
      "cell_type": "markdown",
      "metadata": {
        "id": "view-in-github",
        "colab_type": "text"
      },
      "source": [
        "<a href=\"https://colab.research.google.com/github/samaco634/deep-learning-basics/blob/main/%5B%EB%94%A5%EB%9F%AC%EB%8B%9D%EA%B8%B0%EC%B4%88_00%5D_y%3Dx_%EC%84%A0%ED%98%95%ED%9A%8C%EA%B7%80_%EA%B2%80%EC%A6%9D%ED%95%98%EA%B8%B0.ipynb\" target=\"_parent\"><img src=\"https://colab.research.google.com/assets/colab-badge.svg\" alt=\"Open In Colab\"/></a>"
      ]
    },
    {
      "cell_type": "code",
      "execution_count": null,
      "metadata": {
        "colab": {
          "base_uri": "https://localhost:8080/"
        },
        "id": "rRbLz4-5ObBg",
        "outputId": "8236ca0b-b801-456b-df15-9d395104aba2"
      },
      "outputs": [
        {
          "output_type": "stream",
          "name": "stdout",
          "text": [
            "Epoch 1/1000\n",
            "1/1 [==============================] - 1s 1s/step - loss: 0.4051\n",
            "Epoch 2/1000\n",
            "1/1 [==============================] - 0s 31ms/step - loss: 0.3205\n",

            "Epoch 998/1000\n",
            "1/1 [==============================] - 0s 12ms/step - loss: 1.3933e-05\n",
            "Epoch 999/1000\n",
            "1/1 [==============================] - 0s 14ms/step - loss: 1.3866e-05\n",
            "Epoch 1000/1000\n",
            "1/1 [==============================] - 0s 13ms/step - loss: 1.3799e-05\n",
            "1/1 [==============================] - 0s 80ms/step\n",
            "[[4.988264]]\n"
          ]
        }
      ],
      "source": [
        "import tensorflow as tf\n",
        "import numpy as np\n",
        "x_train = [1, 2, 3]\n",
        "y_train = [1, 2, 3]\n",
        " \n",
        "W = tf.Variable(tf.random.normal([1]), name=\"weight\")\n",
        "b = tf.Variable(tf.random.normal([1]), name=\"bias\")\n",
        " \n",
        "hypothesis=x_train*W+b\n",
        " \n",
        "cost = tf.reduce_mean(tf.square(hypothesis - y_train))\n",
        "sgd = tf.keras.optimizers.SGD(learning_rate=0.01)\n",
        " \n",
        "model = tf.keras.models.Sequential()\n",
        "model.add(tf.keras.layers.Dense(1, input_dim = 1))\n",
        " \n",
        "model.compile(loss='mean_squared_error',optimizer=sgd)\n",
        " \n"
      ]
    },
    {
      "cell_type": "markdown",
      "source": [],
      "metadata": {
        "id": "XaAiru79RaFr"
      }
    },
    {
      "cell_type": "code",
      "source": [
        "model.summary()"
      ],
      "metadata": {
        "colab": {
          "base_uri": "https://localhost:8080/"
        },
        "id": "m6v8sFSORawF",
        "outputId": "5275d8fd-27d2-4867-edc8-2e09d5c62f13"
      },
      "execution_count": null,
      "outputs": [
        {
          "output_type": "stream",
          "name": "stdout",
          "text": [
            "Model: \"sequential\"\n",
            "_________________________________________________________________\n",
            " Layer (type)                Output Shape              Param #   \n",
            "=================================================================\n",
            " dense (Dense)               (None, 1)                 2         \n",
            "                                                                 \n",
            "=================================================================\n",
            "Total params: 2\n",
            "Trainable params: 2\n",
            "Non-trainable params: 0\n",
            "_________________________________________________________________\n"
          ]
        }
      ]
    },
    {
      "cell_type": "code",
      "source": [
        "model.fit(x_train,y_train,epochs=1000)\n",
        " \n",
        "print(model.predict(np.array([5])))"
      ],
      "metadata": {
        "id": "A_fU-AJvRXbc"
      },
      "execution_count": null,
      "outputs": []
    },
    {
      "cell_type": "code",
      "source": [
        "print(\"W\", W[0])\n",
        "print(\"B\", b[0])"
      ],
      "metadata": {
        "colab": {
          "base_uri": "https://localhost:8080/"
        },
        "id": "_i11lE2QO1tf",
        "outputId": "1fb5a06d-29cf-4dd1-8cf2-772c6bb1b797"
      },
      "execution_count": null,
      "outputs": [
        {
          "output_type": "stream",
          "name": "stdout",
          "text": [
            "W tf.Tensor(0.33737126, shape=(), dtype=float32)\n",
            "B tf.Tensor(-1.9728152, shape=(), dtype=float32)\n"
          ]
        }
      ]
    },
    {
      "cell_type": "code",
      "source": [
        "w, b = model.get_weights()\n",
        "w =  w[0][0]\n",
        "b = b[0]\n",
        "print('w: ', w)\n",
        "print('b: ', b)"
      ],
      "metadata": {
        "colab": {
          "base_uri": "https://localhost:8080/"
        },
        "id": "ZDn-2kmhSHKW",
        "outputId": "dbd9f5dc-17ca-420d-d36b-edd910559c25"
      },
      "execution_count": null,
      "outputs": [
        {
          "output_type": "stream",
          "name": "stdout",
          "text": [
            "w:  0.99569595\n",
            "b:  0.009784172\n"
          ]
        }
      ]
    },
    {
      "cell_type": "code",
      "source": [
        "import matplotlib.pyplot as plt\n",
        "import numpy as np\n",
        "\n",
        "x = np.array(range(0, 10))\n",
        "\n",
        "plt.xlabel('x axis')\n",
        "plt.ylabel('y axis')\n",
        "\n",
        "plt.grid(color='gray', alpha=.5, linestyle='--')\n",
        "\n",
        "plt.plot(x, x*w+b, label='AI')\n",
        "plt.scatter(x_train, y_train, label='train data')"
      ],
      "metadata": {
        "colab": {
          "base_uri": "https://localhost:8080/",
          "height": 297
        },
        "id": "0OzoXA1BPhi_",
        "outputId": "2529e668-db7c-4801-aee5-e032996ad60c"
      },
      "execution_count": null,
      "outputs": [
        {
          "output_type": "execute_result",
          "data": {
            "text/plain": [
              "<matplotlib.collections.PathCollection at 0x7f55cf1ae110>"
            ]
          },
          "metadata": {},
          "execution_count": 11
        },
        {
          "output_type": "display_data",
          "data": {
            "text/plain": [
              "<Figure size 432x288 with 1 Axes>"
            ],
            "image/png": "[encoded data removed]"
          },
          "metadata": {
            "needs_background": "light"
          }
        }
      ]
    }
  ]
}
